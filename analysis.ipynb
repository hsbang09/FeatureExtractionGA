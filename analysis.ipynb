{
 "cells": [
  {
   "cell_type": "code",
   "execution_count": 40,
   "metadata": {
    "collapsed": true
   },
   "outputs": [],
   "source": [
    "import numpy as np\n",
    "import matplotlib.pyplot as plt\n",
    "%matplotlib inline  "
   ]
  },
  {
   "cell_type": "code",
   "execution_count": 35,
   "metadata": {
    "collapsed": true
   },
   "outputs": [],
   "source": [
    "# Set path\n",
    "ROOT_PATH = '/Users/bang/workspace/FeatureExtractionGA'\n",
    "feature_name_path = ROOT_PATH + '/data/featureNames'\n",
    "feature_paths = []\n",
    "metric_paths = []\n",
    "saved_points = [60,80,100]\n",
    "for g in saved_points:\n",
    "    feature_path =  '{0}/result/{1}_feature'.format(ROOT_PATH, g)\n",
    "    metric_path = '{0}/result/{1}_metric'.format(ROOT_PATH, g)\n",
    "    feature_paths.append(feature_path)\n",
    "    metric_paths.append(metric_path)"
   ]
  },
  {
   "cell_type": "code",
   "execution_count": 36,
   "metadata": {
    "collapsed": false
   },
   "outputs": [],
   "source": [
    "# Import feature names\n",
    "featureNames = []\n",
    "with open(feature_name_path, 'r') as f:\n",
    "    featureNames = f.readlines()"
   ]
  },
  {
   "cell_type": "code",
   "execution_count": 39,
   "metadata": {
    "collapsed": false
   },
   "outputs": [
    {
     "data": {
      "image/png": "[encoded data removed]",
      "text/plain": [
       "<matplotlib.figure.Figure at 0x1091030f0>"
      ]
     },
     "metadata": {},
     "output_type": "display_data"
    }
   ],
   "source": [
    "# Draw scatter plot\n",
    "\n",
    "fig = plt.figure()\n",
    "ax = plt.gca()\n",
    "\n",
    "\n",
    "for i in range(len(saved_points)):\n",
    "    \n",
    "    # Import feature results\n",
    "    features = []\n",
    "    with open(feature_paths[i], 'r') as f:\n",
    "        lines = f.readlines()\n",
    "        for line in lines:\n",
    "            features.append(line.split(','))\n",
    "    \n",
    "    # Import metric results\n",
    "    metrics = []\n",
    "    with open(metric_paths[i], 'r') as f:\n",
    "        lines = f.readlines()\n",
    "        for line in lines:\n",
    "            metrics.append(line.split(','))\n",
    "\n",
    "    consistency = [a for a,b in metrics]\n",
    "    coverage = [b for a,b in metrics]\n",
    "\n",
    "    ax.set_title('')\n",
    "    ax.set_xlabel('Consistency')\n",
    "    ax.set_ylabel('Coverage')\n",
    "    plt.scatter(consistency,coverage)\n",
    "    \n",
    "plt.legend([\"{0}-generation\".format(a) for a in saved_points])\n",
    "plt.show()"
   ]
  },
  {
   "cell_type": "code",
   "execution_count": null,
   "metadata": {
    "collapsed": true
   },
   "outputs": [],
   "source": []
  },
  {
   "cell_type": "code",
   "execution_count": null,
   "metadata": {
    "collapsed": true
   },
   "outputs": [],
   "source": []
  },
  {
   "cell_type": "code",
   "execution_count": null,
   "metadata": {
    "collapsed": true
   },
   "outputs": [],
   "source": []
  }
 ],
 "metadata": {
  "kernelspec": {
   "display_name": "Python 3",
   "language": "python",
   "name": "python3"
  },
  "language_info": {
   "codemirror_mode": {
    "name": "ipython",
    "version": 3
   },
   "file_extension": ".py",
   "mimetype": "text/x-python",
   "name": "python",
   "nbconvert_exporter": "python",
   "pygments_lexer": "ipython3",
   "version": "3.6.0"
  }
 },
 "nbformat": 4,
 "nbformat_minor": 2
}
